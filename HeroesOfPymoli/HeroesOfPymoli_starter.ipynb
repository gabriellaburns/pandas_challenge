{
 "cells": [
  {
   "cell_type": "markdown",
   "metadata": {},
   "source": [
    "### Note\n",
    "* Instructions have been included for each segment. You do not have to follow them exactly, but they are included to help you think through the steps."
   ]
  },
  {
   "cell_type": "code",
   "execution_count": 19,
   "metadata": {},
   "outputs": [
    {
     "data": {
      "text/html": [
       "<div>\n",
       "<style scoped>\n",
       "    .dataframe tbody tr th:only-of-type {\n",
       "        vertical-align: middle;\n",
       "    }\n",
       "\n",
       "    .dataframe tbody tr th {\n",
       "        vertical-align: top;\n",
       "    }\n",
       "\n",
       "    .dataframe thead th {\n",
       "        text-align: right;\n",
       "    }\n",
       "</style>\n",
       "<table border=\"1\" class=\"dataframe\">\n",
       "  <thead>\n",
       "    <tr style=\"text-align: right;\">\n",
       "      <th></th>\n",
       "      <th>Purchase ID</th>\n",
       "      <th>SN</th>\n",
       "      <th>Age</th>\n",
       "      <th>Gender</th>\n",
       "      <th>Item ID</th>\n",
       "      <th>Item Name</th>\n",
       "      <th>Price</th>\n",
       "    </tr>\n",
       "  </thead>\n",
       "  <tbody>\n",
       "    <tr>\n",
       "      <th>0</th>\n",
       "      <td>0</td>\n",
       "      <td>Lisim78</td>\n",
       "      <td>20</td>\n",
       "      <td>Male</td>\n",
       "      <td>108</td>\n",
       "      <td>Extraction, Quickblade Of Trembling Hands</td>\n",
       "      <td>3.53</td>\n",
       "    </tr>\n",
       "    <tr>\n",
       "      <th>1</th>\n",
       "      <td>1</td>\n",
       "      <td>Lisovynya38</td>\n",
       "      <td>40</td>\n",
       "      <td>Male</td>\n",
       "      <td>143</td>\n",
       "      <td>Frenzied Scimitar</td>\n",
       "      <td>1.56</td>\n",
       "    </tr>\n",
       "    <tr>\n",
       "      <th>2</th>\n",
       "      <td>2</td>\n",
       "      <td>Ithergue48</td>\n",
       "      <td>24</td>\n",
       "      <td>Male</td>\n",
       "      <td>92</td>\n",
       "      <td>Final Critic</td>\n",
       "      <td>4.88</td>\n",
       "    </tr>\n",
       "    <tr>\n",
       "      <th>3</th>\n",
       "      <td>3</td>\n",
       "      <td>Chamassasya86</td>\n",
       "      <td>24</td>\n",
       "      <td>Male</td>\n",
       "      <td>100</td>\n",
       "      <td>Blindscythe</td>\n",
       "      <td>3.27</td>\n",
       "    </tr>\n",
       "    <tr>\n",
       "      <th>4</th>\n",
       "      <td>4</td>\n",
       "      <td>Iskosia90</td>\n",
       "      <td>23</td>\n",
       "      <td>Male</td>\n",
       "      <td>131</td>\n",
       "      <td>Fury</td>\n",
       "      <td>1.44</td>\n",
       "    </tr>\n",
       "  </tbody>\n",
       "</table>\n",
       "</div>"
      ],
      "text/plain": [
       "   Purchase ID             SN  Age Gender  Item ID  \\\n",
       "0            0        Lisim78   20   Male      108   \n",
       "1            1    Lisovynya38   40   Male      143   \n",
       "2            2     Ithergue48   24   Male       92   \n",
       "3            3  Chamassasya86   24   Male      100   \n",
       "4            4      Iskosia90   23   Male      131   \n",
       "\n",
       "                                   Item Name  Price  \n",
       "0  Extraction, Quickblade Of Trembling Hands   3.53  \n",
       "1                          Frenzied Scimitar   1.56  \n",
       "2                               Final Critic   4.88  \n",
       "3                                Blindscythe   3.27  \n",
       "4                                       Fury   1.44  "
      ]
     },
     "execution_count": 19,
     "metadata": {},
     "output_type": "execute_result"
    }
   ],
   "source": [
    "# Dependencies and Setup\n",
    "import pandas as pd\n",
    "import numpy as np\n",
    "\n",
    "# File to Load (Remember to Change These)\n",
    "file_to_load = \"Resources/purchase_data.csv\"\n",
    "\n",
    "# Read Purchasing File and store into Pandas data frame\n",
    "purchase_data = pd.read_csv(file_to_load)\n",
    "purchase_data.head()\n"
   ]
  },
  {
   "cell_type": "markdown",
   "metadata": {},
   "source": [
    "## Player Count"
   ]
  },
  {
   "cell_type": "markdown",
   "metadata": {},
   "source": [
    "* Display the total number of players\n"
   ]
  },
  {
   "cell_type": "code",
   "execution_count": 20,
   "metadata": {},
   "outputs": [
    {
     "data": {
      "text/html": [
       "<div>\n",
       "<style scoped>\n",
       "    .dataframe tbody tr th:only-of-type {\n",
       "        vertical-align: middle;\n",
       "    }\n",
       "\n",
       "    .dataframe tbody tr th {\n",
       "        vertical-align: top;\n",
       "    }\n",
       "\n",
       "    .dataframe thead th {\n",
       "        text-align: right;\n",
       "    }\n",
       "</style>\n",
       "<table border=\"1\" class=\"dataframe\">\n",
       "  <thead>\n",
       "    <tr style=\"text-align: right;\">\n",
       "      <th></th>\n",
       "      <th>Total Players</th>\n",
       "    </tr>\n",
       "  </thead>\n",
       "  <tbody>\n",
       "    <tr>\n",
       "      <th>0</th>\n",
       "      <td>576</td>\n",
       "    </tr>\n",
       "  </tbody>\n",
       "</table>\n",
       "</div>"
      ],
      "text/plain": [
       "   Total Players\n",
       "0            576"
      ]
     },
     "execution_count": 20,
     "metadata": {},
     "output_type": "execute_result"
    }
   ],
   "source": [
    "total_players = len(pd.unique(purchase_data['SN']))\n",
    "total_players_df = pd.DataFrame({\"Total Players\": [total_players]})\n",
    "total_players_df"
   ]
  },
  {
   "cell_type": "markdown",
   "metadata": {},
   "source": [
    "## Purchasing Analysis (Total)"
   ]
  },
  {
   "cell_type": "markdown",
   "metadata": {},
   "source": [
    "* Run basic calculations to obtain number of unique items, average price, etc.\n",
    "\n",
    "\n",
    "* Create a summary data frame to hold the results\n",
    "\n",
    "\n",
    "* Optional: give the displayed data cleaner formatting\n",
    "\n",
    "\n",
    "* Display the summary data frame\n"
   ]
  },
  {
   "cell_type": "code",
   "execution_count": 21,
   "metadata": {
    "scrolled": true
   },
   "outputs": [
    {
     "data": {
      "text/html": [
       "<div>\n",
       "<style scoped>\n",
       "    .dataframe tbody tr th:only-of-type {\n",
       "        vertical-align: middle;\n",
       "    }\n",
       "\n",
       "    .dataframe tbody tr th {\n",
       "        vertical-align: top;\n",
       "    }\n",
       "\n",
       "    .dataframe thead th {\n",
       "        text-align: right;\n",
       "    }\n",
       "</style>\n",
       "<table border=\"1\" class=\"dataframe\">\n",
       "  <thead>\n",
       "    <tr style=\"text-align: right;\">\n",
       "      <th></th>\n",
       "      <th>Number of Unique Items</th>\n",
       "      <th>Average Price</th>\n",
       "      <th>Number of Purchases</th>\n",
       "      <th>Total Revenue</th>\n",
       "    </tr>\n",
       "  </thead>\n",
       "  <tbody>\n",
       "    <tr>\n",
       "      <th>0</th>\n",
       "      <td>179</td>\n",
       "      <td>$3.05</td>\n",
       "      <td>780</td>\n",
       "      <td>$2379.77</td>\n",
       "    </tr>\n",
       "  </tbody>\n",
       "</table>\n",
       "</div>"
      ],
      "text/plain": [
       "   Number of Unique Items Average Price  Number of Purchases Total Revenue\n",
       "0                     179         $3.05                  780      $2379.77"
      ]
     },
     "execution_count": 21,
     "metadata": {},
     "output_type": "execute_result"
    }
   ],
   "source": [
    "#calculate the total number of unique items, avg. price, number of purchases, and total revenue\n",
    "total_items = len(pd.unique(purchase_data['Item ID']))\n",
    "total_purchases = len(purchase_data[\"Price\"])\n",
    "total_revenue = round(purchase_data[\"Price\"].sum(), 2)\n",
    "average_price = round(total_revenue/total_purchases, 2)\n",
    "\n",
    "#create a new data frame with the new info\n",
    "purchasing_analysis = pd.DataFrame({\"Number of Unique Items\": [total_items],\n",
    "                                    \"Average Price\": \"$\"+str(average_price),\n",
    "                                    \"Number of Purchases\": [total_purchases],\n",
    "                                   \"Total Revenue\": \"$\"+str(total_revenue)})\n",
    "purchasing_analysis"
   ]
  },
  {
   "cell_type": "markdown",
   "metadata": {},
   "source": [
    "## Gender Demographics"
   ]
  },
  {
   "cell_type": "markdown",
   "metadata": {},
   "source": [
    "* Percentage and Count of Male Players\n",
    "\n",
    "\n",
    "* Percentage and Count of Female Players\n",
    "\n",
    "\n",
    "* Percentage and Count of Other / Non-Disclosed\n",
    "\n",
    "\n"
   ]
  },
  {
   "cell_type": "code",
   "execution_count": 25,
   "metadata": {},
   "outputs": [
    {
     "data": {
      "text/html": [
       "<style type=\"text/css\">\n",
       "</style>\n",
       "<table id=\"T_f0aaf_\">\n",
       "  <thead>\n",
       "    <tr>\n",
       "      <th class=\"blank level0\" >&nbsp;</th>\n",
       "      <th class=\"col_heading level0 col0\" >Total Count</th>\n",
       "      <th class=\"col_heading level0 col1\" >Percentage of Players</th>\n",
       "    </tr>\n",
       "  </thead>\n",
       "  <tbody>\n",
       "    <tr>\n",
       "      <th id=\"T_f0aaf_level0_row0\" class=\"row_heading level0 row0\" >Male</th>\n",
       "      <td id=\"T_f0aaf_row0_col0\" class=\"data row0 col0\" >484</td>\n",
       "      <td id=\"T_f0aaf_row0_col1\" class=\"data row0 col1\" >84.03%</td>\n",
       "    </tr>\n",
       "    <tr>\n",
       "      <th id=\"T_f0aaf_level0_row1\" class=\"row_heading level0 row1\" >Female</th>\n",
       "      <td id=\"T_f0aaf_row1_col0\" class=\"data row1 col0\" >81</td>\n",
       "      <td id=\"T_f0aaf_row1_col1\" class=\"data row1 col1\" >14.06%</td>\n",
       "    </tr>\n",
       "    <tr>\n",
       "      <th id=\"T_f0aaf_level0_row2\" class=\"row_heading level0 row2\" >Other / Non-Disclosed</th>\n",
       "      <td id=\"T_f0aaf_row2_col0\" class=\"data row2 col0\" >11</td>\n",
       "      <td id=\"T_f0aaf_row2_col1\" class=\"data row2 col1\" >1.91%</td>\n",
       "    </tr>\n",
       "  </tbody>\n",
       "</table>\n"
      ],
      "text/plain": [
       "<pandas.io.formats.style.Styler at 0x7fc4efde6ac0>"
      ]
     },
     "execution_count": 25,
     "metadata": {},
     "output_type": "execute_result"
    }
   ],
   "source": [
    "#refine the original dataframe so that only unique SN's data shows up\n",
    "unique_user_data = purchase_data.drop_duplicates(subset=[\"SN\"])\n",
    "\n",
    "# I checked that this dataset would produce the desired result by running this: len(pd.unique(unique_user_data['SN']))\n",
    "#gender_demographics = unique_user_data.col_name.nunique\n",
    "\n",
    "\n",
    "gender_demographics = pd.DataFrame({\"Total Count\": (unique_user_data['Gender'].value_counts(dropna=False)),\n",
    "                                   \"Percentage of Players\": ((unique_user_data['Gender'].value_counts(normalize=True)))})\n",
    "#get the percentage of players df formulated correctly\n",
    "gender_demographics.style.format({\"Percentage of Players\":\"{:,.2%}\"}) \n",
    "\n"
   ]
  },
  {
   "cell_type": "markdown",
   "metadata": {},
   "source": [
    "\n",
    "## Purchasing Analysis (Gender)"
   ]
  },
  {
   "cell_type": "markdown",
   "metadata": {},
   "source": [
    "* Run basic calculations to obtain purchase count, avg. purchase price, avg. purchase total per person etc. by gender\n",
    "\n",
    "\n",
    "\n",
    "\n",
    "* Create a summary data frame to hold the results\n",
    "\n",
    "\n",
    "* Optional: give the displayed data cleaner formatting\n",
    "\n",
    "\n",
    "* Display the summary data frame"
   ]
  },
  {
   "cell_type": "code",
   "execution_count": 47,
   "metadata": {},
   "outputs": [
    {
     "data": {
      "text/html": [
       "<style type=\"text/css\">\n",
       "</style>\n",
       "<table id=\"T_d0a5a_\">\n",
       "  <thead>\n",
       "    <tr>\n",
       "      <th class=\"blank level0\" >&nbsp;</th>\n",
       "      <th class=\"col_heading level0 col0\" >Purchase Count</th>\n",
       "      <th class=\"col_heading level0 col1\" >Average Purchase Price</th>\n",
       "      <th class=\"col_heading level0 col2\" >Total Purchase Value</th>\n",
       "      <th class=\"col_heading level0 col3\" >Avg Total Purchase per Person</th>\n",
       "    </tr>\n",
       "    <tr>\n",
       "      <th class=\"index_name level0\" >Gender</th>\n",
       "      <th class=\"blank col0\" >&nbsp;</th>\n",
       "      <th class=\"blank col1\" >&nbsp;</th>\n",
       "      <th class=\"blank col2\" >&nbsp;</th>\n",
       "      <th class=\"blank col3\" >&nbsp;</th>\n",
       "    </tr>\n",
       "  </thead>\n",
       "  <tbody>\n",
       "    <tr>\n",
       "      <th id=\"T_d0a5a_level0_row0\" class=\"row_heading level0 row0\" >Female</th>\n",
       "      <td id=\"T_d0a5a_row0_col0\" class=\"data row0 col0\" >113</td>\n",
       "      <td id=\"T_d0a5a_row0_col1\" class=\"data row0 col1\" >$3.2</td>\n",
       "      <td id=\"T_d0a5a_row0_col2\" class=\"data row0 col2\" >$361.94</td>\n",
       "      <td id=\"T_d0a5a_row0_col3\" class=\"data row0 col3\" >$4.47</td>\n",
       "    </tr>\n",
       "    <tr>\n",
       "      <th id=\"T_d0a5a_level0_row1\" class=\"row_heading level0 row1\" >Male</th>\n",
       "      <td id=\"T_d0a5a_row1_col0\" class=\"data row1 col0\" >652</td>\n",
       "      <td id=\"T_d0a5a_row1_col1\" class=\"data row1 col1\" >$3.02</td>\n",
       "      <td id=\"T_d0a5a_row1_col2\" class=\"data row1 col2\" >$1,967.64</td>\n",
       "      <td id=\"T_d0a5a_row1_col3\" class=\"data row1 col3\" >$4.07</td>\n",
       "    </tr>\n",
       "    <tr>\n",
       "      <th id=\"T_d0a5a_level0_row2\" class=\"row_heading level0 row2\" >Other / Non-Disclosed</th>\n",
       "      <td id=\"T_d0a5a_row2_col0\" class=\"data row2 col0\" >15</td>\n",
       "      <td id=\"T_d0a5a_row2_col1\" class=\"data row2 col1\" >$3.35</td>\n",
       "      <td id=\"T_d0a5a_row2_col2\" class=\"data row2 col2\" >$50.19</td>\n",
       "      <td id=\"T_d0a5a_row2_col3\" class=\"data row2 col3\" >$4.56</td>\n",
       "    </tr>\n",
       "  </tbody>\n",
       "</table>\n"
      ],
      "text/plain": [
       "<pandas.io.formats.style.Styler at 0x7fc4f0f81970>"
      ]
     },
     "execution_count": 47,
     "metadata": {},
     "output_type": "execute_result"
    }
   ],
   "source": [
    "#use .groupby to group the data by gender\n",
    "gender_analysis = purchase_data.groupby(\"Gender\")\n",
    "\n",
    "#calculate purchase count, avg. purchase price, avg. purchase total per person etc. by gender\n",
    "unique_count_gender = gender_analysis.nunique()[\"SN\"]\n",
    "\n",
    "total_count_gender = gender_analysis[\"Purchase ID\"].count()\n",
    "\n",
    "total_revenue_gender = gender_analysis[\"Price\"].sum()\n",
    "\n",
    "purchase_perperson = ((total_revenue_gender/unique_count_gender))\n",
    "\n",
    "average_price_gender = gender_analysis[\"Price\"].mean()\n",
    "\n",
    "#create a new datafram with the new information\n",
    "gender_purchasing_analysis= pd.DataFrame({\"Purchase Count\": total_count_gender,\n",
    "                                          \"Average Purchase Price\": average_price_gender,\n",
    "                                          \"Total Purchase Value\": total_revenue_gender,\n",
    "                                          \"Avg Total Purchase per Person\": purchase_perperson})\n",
    "\n",
    "#add an index to porperly display the data \n",
    "gender_purchasing_analysis.index.name = \"Gender\"\n",
    "\n",
    "#make it prettttty!\n",
    "gender_purchasing_analysis.style.format({\"Average Purchase Price\":\"${:,.3}\",\n",
    "                                  \"Total Purchase Value\":\"${:,.6}\",\n",
    "                                  \"Avg Total Purchase per Person\":\"${:,.3}\"})\n"
   ]
  },
  {
   "cell_type": "markdown",
   "metadata": {},
   "source": [
    "## Age Demographics"
   ]
  },
  {
   "cell_type": "markdown",
   "metadata": {},
   "source": [
    "* Establish bins for ages\n",
    "\n",
    "\n",
    "* Categorize the existing players using the age bins. Hint: use pd.cut()\n",
    "\n",
    "\n",
    "* Calculate the numbers and percentages by age group\n",
    "\n",
    "\n",
    "* Create a summary data frame to hold the results\n",
    "\n",
    "\n",
    "* Optional: round the percentage column to two decimal points\n",
    "\n",
    "\n",
    "* Display Age Demographics Table\n"
   ]
  },
  {
   "cell_type": "code",
   "execution_count": 62,
   "metadata": {},
   "outputs": [
    {
     "data": {
      "text/html": [
       "<style type=\"text/css\">\n",
       "</style>\n",
       "<table id=\"T_f2a16_\">\n",
       "  <thead>\n",
       "    <tr>\n",
       "      <th class=\"blank level0\" >&nbsp;</th>\n",
       "      <th class=\"col_heading level0 col0\" >Total Count</th>\n",
       "      <th class=\"col_heading level0 col1\" >Percentage of Players</th>\n",
       "    </tr>\n",
       "    <tr>\n",
       "      <th class=\"index_name level0\" >Age Group</th>\n",
       "      <th class=\"blank col0\" >&nbsp;</th>\n",
       "      <th class=\"blank col1\" >&nbsp;</th>\n",
       "    </tr>\n",
       "  </thead>\n",
       "  <tbody>\n",
       "    <tr>\n",
       "      <th id=\"T_f2a16_level0_row0\" class=\"row_heading level0 row0\" ><10</th>\n",
       "      <td id=\"T_f2a16_row0_col0\" class=\"data row0 col0\" >17</td>\n",
       "      <td id=\"T_f2a16_row0_col1\" class=\"data row0 col1\" >2.95%</td>\n",
       "    </tr>\n",
       "    <tr>\n",
       "      <th id=\"T_f2a16_level0_row1\" class=\"row_heading level0 row1\" >10-14</th>\n",
       "      <td id=\"T_f2a16_row1_col0\" class=\"data row1 col0\" >22</td>\n",
       "      <td id=\"T_f2a16_row1_col1\" class=\"data row1 col1\" >3.82%</td>\n",
       "    </tr>\n",
       "    <tr>\n",
       "      <th id=\"T_f2a16_level0_row2\" class=\"row_heading level0 row2\" >15-19</th>\n",
       "      <td id=\"T_f2a16_row2_col0\" class=\"data row2 col0\" >107</td>\n",
       "      <td id=\"T_f2a16_row2_col1\" class=\"data row2 col1\" >18.58%</td>\n",
       "    </tr>\n",
       "    <tr>\n",
       "      <th id=\"T_f2a16_level0_row3\" class=\"row_heading level0 row3\" >20-24</th>\n",
       "      <td id=\"T_f2a16_row3_col0\" class=\"data row3 col0\" >258</td>\n",
       "      <td id=\"T_f2a16_row3_col1\" class=\"data row3 col1\" >44.79%</td>\n",
       "    </tr>\n",
       "    <tr>\n",
       "      <th id=\"T_f2a16_level0_row4\" class=\"row_heading level0 row4\" >25-29</th>\n",
       "      <td id=\"T_f2a16_row4_col0\" class=\"data row4 col0\" >77</td>\n",
       "      <td id=\"T_f2a16_row4_col1\" class=\"data row4 col1\" >13.37%</td>\n",
       "    </tr>\n",
       "    <tr>\n",
       "      <th id=\"T_f2a16_level0_row5\" class=\"row_heading level0 row5\" >30-34</th>\n",
       "      <td id=\"T_f2a16_row5_col0\" class=\"data row5 col0\" >52</td>\n",
       "      <td id=\"T_f2a16_row5_col1\" class=\"data row5 col1\" >9.03%</td>\n",
       "    </tr>\n",
       "    <tr>\n",
       "      <th id=\"T_f2a16_level0_row6\" class=\"row_heading level0 row6\" >35-39</th>\n",
       "      <td id=\"T_f2a16_row6_col0\" class=\"data row6 col0\" >31</td>\n",
       "      <td id=\"T_f2a16_row6_col1\" class=\"data row6 col1\" >5.38%</td>\n",
       "    </tr>\n",
       "    <tr>\n",
       "      <th id=\"T_f2a16_level0_row7\" class=\"row_heading level0 row7\" >40+</th>\n",
       "      <td id=\"T_f2a16_row7_col0\" class=\"data row7 col0\" >12</td>\n",
       "      <td id=\"T_f2a16_row7_col1\" class=\"data row7 col1\" >2.08%</td>\n",
       "    </tr>\n",
       "  </tbody>\n",
       "</table>\n"
      ],
      "text/plain": [
       "<pandas.io.formats.style.Styler at 0x7fc4f0f92130>"
      ]
     },
     "execution_count": 62,
     "metadata": {},
     "output_type": "execute_result"
    }
   ],
   "source": [
    "#make the bins and the group labels\n",
    "bins = [0,9,14,19,24,29,34,39,100]\n",
    "\n",
    "group_labels = [\"<10\", \"10-14\", \"15-19\",\"20-24\",\"25-29\",\"30-34\",\"35-39\",\"40+\"]\n",
    "\n",
    "#use pd.cut to divide the data into the above bins\n",
    "purchase_data[\"Age Group\"] = pd.cut(purchase_data[\"Age\"], bins, labels=group_labels)\n",
    "\n",
    "#group by Age\n",
    "age_grouped = purchase_data.groupby(\"Age Group\")\n",
    "\n",
    "#calculate numbers and percentages by age group\n",
    "age_count_bygroup = age_grouped[\"SN\"].nunique()\n",
    "\n",
    "age_percent_bygroup = (age_count_bygroup/total_players)*100\n",
    "\n",
    "demographics_byage = pd.DataFrame({\"Total Count\": age_count_bygroup, \n",
    "                                   \"Percentage of Players\": age_percent_bygroup})\n",
    "#format\n",
    "demographics_byage.style.format({\"Percentage of Players\":\"{:,.2f}%\"})"
   ]
  },
  {
   "cell_type": "markdown",
   "metadata": {},
   "source": [
    "## Purchasing Analysis (Age)"
   ]
  },
  {
   "cell_type": "markdown",
   "metadata": {},
   "source": [
    "* Bin the purchase_data data frame by age\n",
    "\n",
    "\n",
    "* Run basic calculations to obtain purchase count, avg. purchase price, avg. purchase total per person etc. in the table below\n",
    "\n",
    "\n",
    "* Create a summary data frame to hold the results\n",
    "\n",
    "\n",
    "* Optional: give the displayed data cleaner formatting\n",
    "\n",
    "\n",
    "* Display the summary data frame"
   ]
  },
  {
   "cell_type": "code",
   "execution_count": 70,
   "metadata": {},
   "outputs": [
    {
     "data": {
      "text/html": [
       "<style type=\"text/css\">\n",
       "</style>\n",
       "<table id=\"T_22086_\">\n",
       "  <thead>\n",
       "    <tr>\n",
       "      <th class=\"blank level0\" >&nbsp;</th>\n",
       "      <th class=\"col_heading level0 col0\" >Purchase Count</th>\n",
       "      <th class=\"col_heading level0 col1\" >Average Purchase Price</th>\n",
       "      <th class=\"col_heading level0 col2\" >Total Purchase Value</th>\n",
       "      <th class=\"col_heading level0 col3\" >Avg Total Purchase per Person</th>\n",
       "    </tr>\n",
       "    <tr>\n",
       "      <th class=\"index_name level0\" >Age Group</th>\n",
       "      <th class=\"blank col0\" >&nbsp;</th>\n",
       "      <th class=\"blank col1\" >&nbsp;</th>\n",
       "      <th class=\"blank col2\" >&nbsp;</th>\n",
       "      <th class=\"blank col3\" >&nbsp;</th>\n",
       "    </tr>\n",
       "  </thead>\n",
       "  <tbody>\n",
       "    <tr>\n",
       "      <th id=\"T_22086_level0_row0\" class=\"row_heading level0 row0\" ><10</th>\n",
       "      <td id=\"T_22086_row0_col0\" class=\"data row0 col0\" >17</td>\n",
       "      <td id=\"T_22086_row0_col1\" class=\"data row0 col1\" >$3.35</td>\n",
       "      <td id=\"T_22086_row0_col2\" class=\"data row0 col2\" >$77.13</td>\n",
       "      <td id=\"T_22086_row0_col3\" class=\"data row0 col3\" >$3.99</td>\n",
       "    </tr>\n",
       "    <tr>\n",
       "      <th id=\"T_22086_level0_row1\" class=\"row_heading level0 row1\" >10-14</th>\n",
       "      <td id=\"T_22086_row1_col0\" class=\"data row1 col0\" >22</td>\n",
       "      <td id=\"T_22086_row1_col1\" class=\"data row1 col1\" >$2.96</td>\n",
       "      <td id=\"T_22086_row1_col2\" class=\"data row1 col2\" >$82.78</td>\n",
       "      <td id=\"T_22086_row1_col3\" class=\"data row1 col3\" >$4.86</td>\n",
       "    </tr>\n",
       "    <tr>\n",
       "      <th id=\"T_22086_level0_row2\" class=\"row_heading level0 row2\" >15-19</th>\n",
       "      <td id=\"T_22086_row2_col0\" class=\"data row2 col0\" >107</td>\n",
       "      <td id=\"T_22086_row2_col1\" class=\"data row2 col1\" >$3.04</td>\n",
       "      <td id=\"T_22086_row2_col2\" class=\"data row2 col2\" >$412.89</td>\n",
       "      <td id=\"T_22086_row2_col3\" class=\"data row2 col3\" >$23.61</td>\n",
       "    </tr>\n",
       "    <tr>\n",
       "      <th id=\"T_22086_level0_row3\" class=\"row_heading level0 row3\" >20-24</th>\n",
       "      <td id=\"T_22086_row3_col0\" class=\"data row3 col0\" >258</td>\n",
       "      <td id=\"T_22086_row3_col1\" class=\"data row3 col1\" >$3.05</td>\n",
       "      <td id=\"T_22086_row3_col2\" class=\"data row3 col2\" >$1,114.06</td>\n",
       "      <td id=\"T_22086_row3_col3\" class=\"data row3 col3\" >$63.37</td>\n",
       "    </tr>\n",
       "    <tr>\n",
       "      <th id=\"T_22086_level0_row4\" class=\"row_heading level0 row4\" >25-29</th>\n",
       "      <td id=\"T_22086_row4_col0\" class=\"data row4 col0\" >77</td>\n",
       "      <td id=\"T_22086_row4_col1\" class=\"data row4 col1\" >$2.90</td>\n",
       "      <td id=\"T_22086_row4_col2\" class=\"data row4 col2\" >$293.00</td>\n",
       "      <td id=\"T_22086_row4_col3\" class=\"data row4 col3\" >$17.53</td>\n",
       "    </tr>\n",
       "    <tr>\n",
       "      <th id=\"T_22086_level0_row5\" class=\"row_heading level0 row5\" >30-34</th>\n",
       "      <td id=\"T_22086_row5_col0\" class=\"data row5 col0\" >52</td>\n",
       "      <td id=\"T_22086_row5_col1\" class=\"data row5 col1\" >$2.93</td>\n",
       "      <td id=\"T_22086_row5_col2\" class=\"data row5 col2\" >$214.00</td>\n",
       "      <td id=\"T_22086_row5_col3\" class=\"data row5 col3\" >$12.67</td>\n",
       "    </tr>\n",
       "    <tr>\n",
       "      <th id=\"T_22086_level0_row6\" class=\"row_heading level0 row6\" >35-39</th>\n",
       "      <td id=\"T_22086_row6_col0\" class=\"data row6 col0\" >31</td>\n",
       "      <td id=\"T_22086_row6_col1\" class=\"data row6 col1\" >$3.60</td>\n",
       "      <td id=\"T_22086_row6_col2\" class=\"data row6 col2\" >$147.67</td>\n",
       "      <td id=\"T_22086_row6_col3\" class=\"data row6 col3\" >$7.12</td>\n",
       "    </tr>\n",
       "    <tr>\n",
       "      <th id=\"T_22086_level0_row7\" class=\"row_heading level0 row7\" >40+</th>\n",
       "      <td id=\"T_22086_row7_col0\" class=\"data row7 col0\" >12</td>\n",
       "      <td id=\"T_22086_row7_col1\" class=\"data row7 col1\" >$2.94</td>\n",
       "      <td id=\"T_22086_row7_col2\" class=\"data row7 col2\" >$38.24</td>\n",
       "      <td id=\"T_22086_row7_col3\" class=\"data row7 col3\" >$2.26</td>\n",
       "    </tr>\n",
       "  </tbody>\n",
       "</table>\n"
      ],
      "text/plain": [
       "<pandas.io.formats.style.Styler at 0x7fc4f0fef940>"
      ]
     },
     "execution_count": 70,
     "metadata": {},
     "output_type": "execute_result"
    }
   ],
   "source": [
    "#use the age_grouped data from the previous \n",
    "avg_price_byage = age_grouped[\"Price\"].mean()\n",
    "\n",
    "purchase_value_byage = age_grouped[\"Price\"].sum()\n",
    "\n",
    "total_value_byage = age_grouped[\"Purchase ID\"].count()\n",
    "\n",
    "avg_perperson_byage = (total_value_byage/total_players)*100\n",
    "\n",
    "age_demographics = pd.DataFrame({\"Purchase Count\": age_count_bygroup,\n",
    "                   \"Average Purchase Price\": avg_price_byage,\n",
    "                   \"Total Purchase Value\": purchase_value_byage,\n",
    "                   \"Avg Total Purchase per Person\": avg_perperson_byage })\n",
    "\n",
    "age_demographics.style.format({\"Average Purchase Price\":\"${:,.2f}\",\n",
    "                               \"Total Purchase Value\":\"${:,.2f}\",\n",
    "                               \"Avg Total Purchase per Person\":\"${:,.2f}\"})"
   ]
  },
  {
   "cell_type": "markdown",
   "metadata": {},
   "source": [
    "## Top Spenders"
   ]
  },
  {
   "cell_type": "markdown",
   "metadata": {},
   "source": [
    "* Run basic calculations to obtain the results in the table below\n",
    "\n",
    "\n",
    "* Create a summary data frame to hold the results\n",
    "\n",
    "\n",
    "* Sort the total purchase value column in descending order\n",
    "\n",
    "\n",
    "* Optional: give the displayed data cleaner formatting\n",
    "\n",
    "\n",
    "* Display a preview of the summary data frame\n",
    "\n"
   ]
  },
  {
   "cell_type": "code",
   "execution_count": 95,
   "metadata": {},
   "outputs": [
    {
     "data": {
      "text/html": [
       "<style type=\"text/css\">\n",
       "</style>\n",
       "<table id=\"T_f3f5b_\">\n",
       "  <thead>\n",
       "    <tr>\n",
       "      <th class=\"blank level0\" >&nbsp;</th>\n",
       "      <th class=\"col_heading level0 col0\" >Purchase Count</th>\n",
       "      <th class=\"col_heading level0 col1\" >Average Purchase Price</th>\n",
       "      <th class=\"col_heading level0 col2\" >Total Purchase Value</th>\n",
       "    </tr>\n",
       "    <tr>\n",
       "      <th class=\"index_name level0\" >SN</th>\n",
       "      <th class=\"blank col0\" >&nbsp;</th>\n",
       "      <th class=\"blank col1\" >&nbsp;</th>\n",
       "      <th class=\"blank col2\" >&nbsp;</th>\n",
       "    </tr>\n",
       "  </thead>\n",
       "  <tbody>\n",
       "    <tr>\n",
       "      <th id=\"T_f3f5b_level0_row0\" class=\"row_heading level0 row0\" >Lisosia93</th>\n",
       "      <td id=\"T_f3f5b_row0_col0\" class=\"data row0 col0\" >5</td>\n",
       "      <td id=\"T_f3f5b_row0_col1\" class=\"data row0 col1\" >$3.79</td>\n",
       "      <td id=\"T_f3f5b_row0_col2\" class=\"data row0 col2\" >$18.96</td>\n",
       "    </tr>\n",
       "    <tr>\n",
       "      <th id=\"T_f3f5b_level0_row1\" class=\"row_heading level0 row1\" >Idastidru52</th>\n",
       "      <td id=\"T_f3f5b_row1_col0\" class=\"data row1 col0\" >4</td>\n",
       "      <td id=\"T_f3f5b_row1_col1\" class=\"data row1 col1\" >$3.86</td>\n",
       "      <td id=\"T_f3f5b_row1_col2\" class=\"data row1 col2\" >$15.45</td>\n",
       "    </tr>\n",
       "    <tr>\n",
       "      <th id=\"T_f3f5b_level0_row2\" class=\"row_heading level0 row2\" >Chamjask73</th>\n",
       "      <td id=\"T_f3f5b_row2_col0\" class=\"data row2 col0\" >3</td>\n",
       "      <td id=\"T_f3f5b_row2_col1\" class=\"data row2 col1\" >$4.61</td>\n",
       "      <td id=\"T_f3f5b_row2_col2\" class=\"data row2 col2\" >$13.83</td>\n",
       "    </tr>\n",
       "    <tr>\n",
       "      <th id=\"T_f3f5b_level0_row3\" class=\"row_heading level0 row3\" >Iral74</th>\n",
       "      <td id=\"T_f3f5b_row3_col0\" class=\"data row3 col0\" >4</td>\n",
       "      <td id=\"T_f3f5b_row3_col1\" class=\"data row3 col1\" >$3.41</td>\n",
       "      <td id=\"T_f3f5b_row3_col2\" class=\"data row3 col2\" >$13.62</td>\n",
       "    </tr>\n",
       "    <tr>\n",
       "      <th id=\"T_f3f5b_level0_row4\" class=\"row_heading level0 row4\" >Iskadarya95</th>\n",
       "      <td id=\"T_f3f5b_row4_col0\" class=\"data row4 col0\" >3</td>\n",
       "      <td id=\"T_f3f5b_row4_col1\" class=\"data row4 col1\" >$4.37</td>\n",
       "      <td id=\"T_f3f5b_row4_col2\" class=\"data row4 col2\" >$13.10</td>\n",
       "    </tr>\n",
       "  </tbody>\n",
       "</table>\n"
      ],
      "text/plain": [
       "<pandas.io.formats.style.Styler at 0x7fc4f0eabdc0>"
      ]
     },
     "execution_count": 95,
     "metadata": {},
     "output_type": "execute_result"
    }
   ],
   "source": [
    "#group the original DF by SN\n",
    "top_spenders = purchase_data.groupby(\"SN\")\n",
    "\n",
    "#calculate purchase count, average purchase price, and total purchase value for each user in the data\n",
    "purchase_count_bysn = top_spenders[\"Purchase ID\"].count()\n",
    "\n",
    "avg_price_bysn = top_spenders[\"Price\"].mean()\n",
    "\n",
    "purchase_total_bysn = top_spenders[\"Price\"].sum()\n",
    "\n",
    "#create new DF\n",
    "spender_df = pd.DataFrame({\"Purchase Count\": purchase_count_bysn,\n",
    "                          \"Average Purchase Price\": avg_price_bysn,\n",
    "                          \"Total Purchase Value\": purchase_total_bysn})\n",
    "\n",
    "#sort by total purchase value - largest to smallest\n",
    "spender_df_sorted = spender_df.sort_values(by='Total Purchase Value', ascending=False).head()\n",
    "#format\n",
    "spender_df_sorted.style.format({\"Average Purchase Price\": \"${:,.2f}\",\n",
    "                               \"Total Purchase Value\": \"${:,.2f}\"})\n",
    "\n"
   ]
  },
  {
   "cell_type": "markdown",
   "metadata": {},
   "source": [
    "## Most Popular Items"
   ]
  },
  {
   "cell_type": "markdown",
   "metadata": {},
   "source": [
    "* Retrieve the Item ID, Item Name, and Item Price columns\n",
    "\n",
    "\n",
    "* Group by Item ID and Item Name. Perform calculations to obtain purchase count, average item price, and total purchase value\n",
    "\n",
    "\n",
    "* Create a summary data frame to hold the results\n",
    "\n",
    "\n",
    "* Sort the purchase count column in descending order\n",
    "\n",
    "\n",
    "* Optional: give the displayed data cleaner formatting\n",
    "\n",
    "\n",
    "* Display a preview of the summary data frame\n",
    "\n"
   ]
  },
  {
   "cell_type": "code",
   "execution_count": 105,
   "metadata": {},
   "outputs": [
    {
     "data": {
      "text/html": [
       "<div>\n",
       "<style scoped>\n",
       "    .dataframe tbody tr th:only-of-type {\n",
       "        vertical-align: middle;\n",
       "    }\n",
       "\n",
       "    .dataframe tbody tr th {\n",
       "        vertical-align: top;\n",
       "    }\n",
       "\n",
       "    .dataframe thead th {\n",
       "        text-align: right;\n",
       "    }\n",
       "</style>\n",
       "<table border=\"1\" class=\"dataframe\">\n",
       "  <thead>\n",
       "    <tr style=\"text-align: right;\">\n",
       "      <th></th>\n",
       "      <th></th>\n",
       "      <th>Purchase Count</th>\n",
       "      <th>Item Price</th>\n",
       "      <th>Total Purchase Value</th>\n",
       "    </tr>\n",
       "    <tr>\n",
       "      <th>Item ID</th>\n",
       "      <th>Item Name</th>\n",
       "      <th></th>\n",
       "      <th></th>\n",
       "      <th></th>\n",
       "    </tr>\n",
       "  </thead>\n",
       "  <tbody>\n",
       "    <tr>\n",
       "      <th>0</th>\n",
       "      <th>Splinter</th>\n",
       "      <td>4</td>\n",
       "      <td>1.2800</td>\n",
       "      <td>5.12</td>\n",
       "    </tr>\n",
       "    <tr>\n",
       "      <th>1</th>\n",
       "      <th>Crucifer</th>\n",
       "      <td>4</td>\n",
       "      <td>2.9425</td>\n",
       "      <td>11.77</td>\n",
       "    </tr>\n",
       "    <tr>\n",
       "      <th>2</th>\n",
       "      <th>Verdict</th>\n",
       "      <td>6</td>\n",
       "      <td>2.4800</td>\n",
       "      <td>14.88</td>\n",
       "    </tr>\n",
       "    <tr>\n",
       "      <th>3</th>\n",
       "      <th>Phantomlight</th>\n",
       "      <td>6</td>\n",
       "      <td>2.4900</td>\n",
       "      <td>14.94</td>\n",
       "    </tr>\n",
       "    <tr>\n",
       "      <th>4</th>\n",
       "      <th>Bloodlord's Fetish</th>\n",
       "      <td>5</td>\n",
       "      <td>1.7000</td>\n",
       "      <td>8.50</td>\n",
       "    </tr>\n",
       "  </tbody>\n",
       "</table>\n",
       "</div>"
      ],
      "text/plain": [
       "                            Purchase Count  Item Price  Total Purchase Value\n",
       "Item ID Item Name                                                           \n",
       "0       Splinter                         4      1.2800                  5.12\n",
       "1       Crucifer                         4      2.9425                 11.77\n",
       "2       Verdict                          6      2.4800                 14.88\n",
       "3       Phantomlight                     6      2.4900                 14.94\n",
       "4       Bloodlord's Fetish               5      1.7000                  8.50"
      ]
     },
     "execution_count": 105,
     "metadata": {},
     "output_type": "execute_result"
    }
   ],
   "source": [
    "# make a new df with the item ID/Name/Price info\n",
    "items = purchase_data[[\"Item ID\", \"Item Name\", \"Price\"]]\n",
    "\n",
    "# group that data\n",
    "item_stats = items.groupby([\"Item ID\",\"Item Name\"])\n",
    "\n",
    "#find the purchase count for all items\n",
    "item_purchases = item_stats[\"Price\"].count()\n",
    "\n",
    "#get the total value for each item\n",
    "item_purchase_value = (item_stats[\"Price\"].sum())\n",
    "\n",
    "#get the price of each item\n",
    "item_price = item_purchase_value/item_purchases\n",
    "\n",
    "#create final dataframe\n",
    "most_popular_items = pd.DataFrame({\"Purchase Count\":item_purchases,\n",
    "                                   \"Item Price\": item_price,\n",
    "                                   \"Total Purchase Value\": item_purchase_value})\n",
    "#format\n",
    "most_popular_items.style.format({\"Item Price\": \"${:,.2f}\",\n",
    "                               \"Total Purchase Value\": \"${:,.2f}\"})\n",
    "most_popular_items.head()"
   ]
  },
  {
   "cell_type": "markdown",
   "metadata": {},
   "source": [
    "## Most Profitable Items"
   ]
  },
  {
   "cell_type": "markdown",
   "metadata": {},
   "source": [
    "* Sort the above table by total purchase value in descending order\n",
    "\n",
    "\n",
    "* Optional: give the displayed data cleaner formatting\n",
    "\n",
    "\n",
    "* Display a preview of the data frame\n",
    "\n"
   ]
  },
  {
   "cell_type": "code",
   "execution_count": 98,
   "metadata": {
    "scrolled": true
   },
   "outputs": [
    {
     "data": {
      "text/html": [
       "<style type=\"text/css\">\n",
       "</style>\n",
       "<table id=\"T_bc492_\">\n",
       "  <thead>\n",
       "    <tr>\n",
       "      <th class=\"blank\" >&nbsp;</th>\n",
       "      <th class=\"blank level0\" >&nbsp;</th>\n",
       "      <th class=\"col_heading level0 col0\" >Purchase Count</th>\n",
       "      <th class=\"col_heading level0 col1\" >Item Price</th>\n",
       "      <th class=\"col_heading level0 col2\" >Total Purchase Value</th>\n",
       "    </tr>\n",
       "    <tr>\n",
       "      <th class=\"index_name level0\" >Item ID</th>\n",
       "      <th class=\"index_name level1\" >Item Name</th>\n",
       "      <th class=\"blank col0\" >&nbsp;</th>\n",
       "      <th class=\"blank col1\" >&nbsp;</th>\n",
       "      <th class=\"blank col2\" >&nbsp;</th>\n",
       "    </tr>\n",
       "  </thead>\n",
       "  <tbody>\n",
       "    <tr>\n",
       "      <th id=\"T_bc492_level0_row0\" class=\"row_heading level0 row0\" >92</th>\n",
       "      <th id=\"T_bc492_level1_row0\" class=\"row_heading level1 row0\" >Final Critic</th>\n",
       "      <td id=\"T_bc492_row0_col0\" class=\"data row0 col0\" >13</td>\n",
       "      <td id=\"T_bc492_row0_col1\" class=\"data row0 col1\" >$4.61</td>\n",
       "      <td id=\"T_bc492_row0_col2\" class=\"data row0 col2\" >$59.99</td>\n",
       "    </tr>\n",
       "    <tr>\n",
       "      <th id=\"T_bc492_level0_row1\" class=\"row_heading level0 row1\" >178</th>\n",
       "      <th id=\"T_bc492_level1_row1\" class=\"row_heading level1 row1\" >Oathbreaker, Last Hope of the Breaking Storm</th>\n",
       "      <td id=\"T_bc492_row1_col0\" class=\"data row1 col0\" >12</td>\n",
       "      <td id=\"T_bc492_row1_col1\" class=\"data row1 col1\" >$4.23</td>\n",
       "      <td id=\"T_bc492_row1_col2\" class=\"data row1 col2\" >$50.76</td>\n",
       "    </tr>\n",
       "    <tr>\n",
       "      <th id=\"T_bc492_level0_row2\" class=\"row_heading level0 row2\" >82</th>\n",
       "      <th id=\"T_bc492_level1_row2\" class=\"row_heading level1 row2\" >Nirvana</th>\n",
       "      <td id=\"T_bc492_row2_col0\" class=\"data row2 col0\" >9</td>\n",
       "      <td id=\"T_bc492_row2_col1\" class=\"data row2 col1\" >$4.90</td>\n",
       "      <td id=\"T_bc492_row2_col2\" class=\"data row2 col2\" >$44.10</td>\n",
       "    </tr>\n",
       "    <tr>\n",
       "      <th id=\"T_bc492_level0_row3\" class=\"row_heading level0 row3\" >145</th>\n",
       "      <th id=\"T_bc492_level1_row3\" class=\"row_heading level1 row3\" >Fiery Glass Crusader</th>\n",
       "      <td id=\"T_bc492_row3_col0\" class=\"data row3 col0\" >9</td>\n",
       "      <td id=\"T_bc492_row3_col1\" class=\"data row3 col1\" >$4.58</td>\n",
       "      <td id=\"T_bc492_row3_col2\" class=\"data row3 col2\" >$41.22</td>\n",
       "    </tr>\n",
       "    <tr>\n",
       "      <th id=\"T_bc492_level0_row4\" class=\"row_heading level0 row4\" >103</th>\n",
       "      <th id=\"T_bc492_level1_row4\" class=\"row_heading level1 row4\" >Singed Scalpel</th>\n",
       "      <td id=\"T_bc492_row4_col0\" class=\"data row4 col0\" >8</td>\n",
       "      <td id=\"T_bc492_row4_col1\" class=\"data row4 col1\" >$4.35</td>\n",
       "      <td id=\"T_bc492_row4_col2\" class=\"data row4 col2\" >$34.80</td>\n",
       "    </tr>\n",
       "  </tbody>\n",
       "</table>\n"
      ],
      "text/plain": [
       "<pandas.io.formats.style.Styler at 0x7fc4f1129520>"
      ]
     },
     "execution_count": 98,
     "metadata": {},
     "output_type": "execute_result"
    }
   ],
   "source": [
    "#sort and format\n",
    "most_popular_items_sorted = most_popular_items.sort_values(by=\"Total Purchase Value\", ascending=False).head()\n",
    "\n",
    "most_popular_items_sorted.style.format({\"Item Price\": \"${:,.2f}\",\n",
    "                               \"Total Purchase Value\": \"${:,.2f}\"})"
   ]
  },
  {
   "cell_type": "code",
   "execution_count": null,
   "metadata": {},
   "outputs": [],
   "source": []
  }
 ],
 "metadata": {
  "anaconda-cloud": {},
  "kernel_info": {
   "name": "python3"
  },
  "kernelspec": {
   "display_name": "Python 3 (ipykernel)",
   "language": "python",
   "name": "python3"
  },
  "language_info": {
   "codemirror_mode": {
    "name": "ipython",
    "version": 3
   },
   "file_extension": ".py",
   "mimetype": "text/x-python",
   "name": "python",
   "nbconvert_exporter": "python",
   "pygments_lexer": "ipython3",
   "version": "3.9.7"
  },
  "latex_envs": {
   "LaTeX_envs_menu_present": true,
   "autoclose": false,
   "autocomplete": true,
   "bibliofile": "biblio.bib",
   "cite_by": "apalike",
   "current_citInitial": 1,
   "eqLabelWithNumbers": true,
   "eqNumInitial": 1,
   "hotkeys": {
    "equation": "Ctrl-E",
    "itemize": "Ctrl-I"
   },
   "labels_anchors": false,
   "latex_user_defs": false,
   "report_style_numbering": false,
   "user_envs_cfg": false
  },
  "nteract": {
   "version": "0.2.0"
  }
 },
 "nbformat": 4,
 "nbformat_minor": 2
}
